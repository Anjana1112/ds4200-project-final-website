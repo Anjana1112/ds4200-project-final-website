{
 "cells": [
  {
   "cell_type": "code",
   "execution_count": 2,
   "metadata": {},
   "outputs": [],
   "source": [
    "import pandas as pd\n",
    "import altair as alt"
   ]
  },
  {
   "cell_type": "code",
   "execution_count": 3,
   "metadata": {},
   "outputs": [],
   "source": [
    "nmhss2020= pd.read_csv(\"nmhss-2020.csv\")\n",
    "nmhss2019= pd.read_csv(\"nmhss-2019.csv\")\n",
    "nmhss2018= pd.read_csv(\"nmhss-2018.csv\")\n",
    "nmhss2017= pd.read_csv(\"nmhss-2017.csv\")\n",
    "nmhss2016= pd.read_csv(\"nmhss-2016.csv\")\n",
    "nmhss2017.rename(columns={'caseid': 'CASEID', 'lst': 'LST'}, inplace=True)\n",
    "\n"
   ]
  },
  {
   "cell_type": "code",
   "execution_count": 4,
   "metadata": {},
   "outputs": [],
   "source": [
    "data_years = {\n",
    "    2016: nmhss2016,\n",
    "    2017: nmhss2017,\n",
    "    2018: nmhss2018,\n",
    "    2019: nmhss2019,\n",
    "    2020: nmhss2020\n",
    "}\n",
    "treatment_categories = {\n",
    "    \"Psychotherapy\": ['TREATPSYCHOTHRPY', 'TREATGRPTHRPY', 'TREATFAMTHRPY'],\n",
    "    \"Behavioral Therapy\": ['TREATBEHAVMOD', 'TREATCOGTHRPY', 'TREATDIALTHRPY'],\n",
    "    \"Trauma and Activity Therapy\": ['TREATTRAUMATHRPY', 'TREATACTVTYTHRPY'],\n",
    "    \"Advanced Therapies\": ['TREATTELEMEDINCE', 'TREATEMDR', 'TREATKIT', 'TREATTMS', 'TREATELECTRO'],\n",
    "    \"Dual and Cognitive Therapy\": ['TREATDUALMHSA', 'TREATCOGREM'],\n",
    "    \"Others\":[\"NOTREAT\", \"TREATOTH\"]\n",
    "}"
   ]
  },
  {
   "cell_type": "code",
   "execution_count": 7,
   "metadata": {},
   "outputs": [
    {
     "data": {
      "text/html": [
       "\n",
       "<style>\n",
       "  #altair-viz-8f467866d29a47969e8bf7f681527289.vega-embed {\n",
       "    width: 100%;\n",
       "    display: flex;\n",
       "  }\n",
       "\n",
       "  #altair-viz-8f467866d29a47969e8bf7f681527289.vega-embed details,\n",
       "  #altair-viz-8f467866d29a47969e8bf7f681527289.vega-embed details summary {\n",
       "    position: relative;\n",
       "  }\n",
       "</style>\n",
       "<div id=\"altair-viz-8f467866d29a47969e8bf7f681527289\"></div>\n",
       "<script type=\"text/javascript\">\n",
       "  var VEGA_DEBUG = (typeof VEGA_DEBUG == \"undefined\") ? {} : VEGA_DEBUG;\n",
       "  (function(spec, embedOpt){\n",
       "    let outputDiv = document.currentScript.previousElementSibling;\n",
       "    if (outputDiv.id !== \"altair-viz-8f467866d29a47969e8bf7f681527289\") {\n",
       "      outputDiv = document.getElementById(\"altair-viz-8f467866d29a47969e8bf7f681527289\");\n",
       "    }\n",
       "    const paths = {\n",
       "      \"vega\": \"https://cdn.jsdelivr.net/npm/vega@5?noext\",\n",
       "      \"vega-lib\": \"https://cdn.jsdelivr.net/npm/vega-lib?noext\",\n",
       "      \"vega-lite\": \"https://cdn.jsdelivr.net/npm/vega-lite@5.20.1?noext\",\n",
       "      \"vega-embed\": \"https://cdn.jsdelivr.net/npm/vega-embed@6?noext\",\n",
       "    };\n",
       "\n",
       "    function maybeLoadScript(lib, version) {\n",
       "      var key = `${lib.replace(\"-\", \"\")}_version`;\n",
       "      return (VEGA_DEBUG[key] == version) ?\n",
       "        Promise.resolve(paths[lib]) :\n",
       "        new Promise(function(resolve, reject) {\n",
       "          var s = document.createElement('script');\n",
       "          document.getElementsByTagName(\"head\")[0].appendChild(s);\n",
       "          s.async = true;\n",
       "          s.onload = () => {\n",
       "            VEGA_DEBUG[key] = version;\n",
       "            return resolve(paths[lib]);\n",
       "          };\n",
       "          s.onerror = () => reject(`Error loading script: ${paths[lib]}`);\n",
       "          s.src = paths[lib];\n",
       "        });\n",
       "    }\n",
       "\n",
       "    function showError(err) {\n",
       "      outputDiv.innerHTML = `<div class=\"error\" style=\"color:red;\">${err}</div>`;\n",
       "      throw err;\n",
       "    }\n",
       "\n",
       "    function displayChart(vegaEmbed) {\n",
       "      vegaEmbed(outputDiv, spec, embedOpt)\n",
       "        .catch(err => showError(`Javascript Error: ${err.message}<br>This usually means there's a typo in your chart specification. See the javascript console for the full traceback.`));\n",
       "    }\n",
       "\n",
       "    if(typeof define === \"function\" && define.amd) {\n",
       "      requirejs.config({paths});\n",
       "      require([\"vega-embed\"], displayChart, err => showError(`Error loading script: ${err.message}`));\n",
       "    } else {\n",
       "      maybeLoadScript(\"vega\", \"5\")\n",
       "        .then(() => maybeLoadScript(\"vega-lite\", \"5.20.1\"))\n",
       "        .then(() => maybeLoadScript(\"vega-embed\", \"6\"))\n",
       "        .catch(showError)\n",
       "        .then(() => displayChart(vegaEmbed));\n",
       "    }\n",
       "  })({\"config\": {\"view\": {\"continuousWidth\": 300, \"continuousHeight\": 300}}, \"data\": {\"name\": \"data-e997d77fe867b46ba70162b11be0c28f\"}, \"mark\": {\"type\": \"line\", \"point\": true}, \"encoding\": {\"color\": {\"field\": \"Treatment Category\", \"type\": \"nominal\"}, \"x\": {\"field\": \"Year\", \"title\": \"Year\", \"type\": \"ordinal\"}, \"y\": {\"field\": \"Number of Facilities\", \"title\": \"Number of Facilities\", \"type\": \"quantitative\"}}, \"height\": 400, \"title\": \"Trends in Treatment Services Offered by Mental Health Facilities (2016-2020)\", \"width\": 600, \"$schema\": \"https://vega.github.io/schema/vega-lite/v5.20.1.json\", \"datasets\": {\"data-e997d77fe867b46ba70162b11be0c28f\": [{\"Year\": 2016, \"Treatment Category\": \"Psychotherapy\", \"Number of Facilities\": 29793}, {\"Year\": 2016, \"Treatment Category\": \"Behavioral Therapy\", \"Number of Facilities\": 24553}, {\"Year\": 2016, \"Treatment Category\": \"Trauma and Activity Therapy\", \"Number of Facilities\": 13964}, {\"Year\": 2016, \"Treatment Category\": \"Advanced Therapies\", \"Number of Facilities\": 3739}, {\"Year\": 2016, \"Treatment Category\": \"Dual and Cognitive Therapy\", \"Number of Facilities\": 6385}, {\"Year\": 2016, \"Treatment Category\": \"Others\", \"Number of Facilities\": 397}, {\"Year\": 2017, \"Treatment Category\": \"Psychotherapy\", \"Number of Facilities\": 28624}, {\"Year\": 2017, \"Treatment Category\": \"Behavioral Therapy\", \"Number of Facilities\": 23689}, {\"Year\": 2017, \"Treatment Category\": \"Trauma and Activity Therapy\", \"Number of Facilities\": 13637}, {\"Year\": 2017, \"Treatment Category\": \"Advanced Therapies\", \"Number of Facilities\": 3910}, {\"Year\": 2017, \"Treatment Category\": \"Dual and Cognitive Therapy\", \"Number of Facilities\": 6237}, {\"Year\": 2017, \"Treatment Category\": \"Others\", \"Number of Facilities\": 456}, {\"Year\": 2018, \"Treatment Category\": \"Psychotherapy\", \"Number of Facilities\": 28960}, {\"Year\": 2018, \"Treatment Category\": \"Behavioral Therapy\", \"Number of Facilities\": 24157}, {\"Year\": 2018, \"Treatment Category\": \"Trauma and Activity Therapy\", \"Number of Facilities\": 13836}, {\"Year\": 2018, \"Treatment Category\": \"Advanced Therapies\", \"Number of Facilities\": 4342}, {\"Year\": 2018, \"Treatment Category\": \"Dual and Cognitive Therapy\", \"Number of Facilities\": 6409}, {\"Year\": 2018, \"Treatment Category\": \"Others\", \"Number of Facilities\": 552}, {\"Year\": 2019, \"Treatment Category\": \"Psychotherapy\", \"Number of Facilities\": 31137}, {\"Year\": 2019, \"Treatment Category\": \"Behavioral Therapy\", \"Number of Facilities\": 26504}, {\"Year\": 2019, \"Treatment Category\": \"Trauma and Activity Therapy\", \"Number of Facilities\": 15199}, {\"Year\": 2019, \"Treatment Category\": \"Advanced Therapies\", \"Number of Facilities\": 5251}, {\"Year\": 2019, \"Treatment Category\": \"Dual and Cognitive Therapy\", \"Number of Facilities\": 7057}, {\"Year\": 2019, \"Treatment Category\": \"Others\", \"Number of Facilities\": 805}, {\"Year\": 2020, \"Treatment Category\": \"Psychotherapy\", \"Number of Facilities\": 31055}, {\"Year\": 2020, \"Treatment Category\": \"Behavioral Therapy\", \"Number of Facilities\": 26480}, {\"Year\": 2020, \"Treatment Category\": \"Trauma and Activity Therapy\", \"Number of Facilities\": 15101}, {\"Year\": 2020, \"Treatment Category\": \"Advanced Therapies\", \"Number of Facilities\": 11755}, {\"Year\": 2020, \"Treatment Category\": \"Dual and Cognitive Therapy\", \"Number of Facilities\": 8334}, {\"Year\": 2020, \"Treatment Category\": \"Others\", \"Number of Facilities\": 715}]}}, {\"mode\": \"vega-lite\"});\n",
       "</script>"
      ],
      "text/plain": [
       "alt.Chart(...)"
      ]
     },
     "metadata": {},
     "output_type": "display_data"
    }
   ],
   "source": [
    "\n",
    "aggregated_data = []\n",
    "for year, data in data_years.items():\n",
    "    for category_name, columns in treatment_categories.items():\n",
    "        existing_columns = [col for col in columns if col in data.columns]\n",
    "        if existing_columns:\n",
    "            num_facilities = data[existing_columns].sum().sum()\n",
    "        else:\n",
    "            num_facilities = 0 \n",
    "        aggregated_data.append({\n",
    "            \"Year\": year,\n",
    "            \"Treatment Category\": category_name,\n",
    "            \"Number of Facilities\": num_facilities\n",
    "        })\n",
    "aggregated_df = pd.DataFrame(aggregated_data)\n",
    "\n",
    "chart = alt.Chart(aggregated_df).mark_line(point=True).encode(\n",
    "    alt.X('Year:O', title='Year'),\n",
    "    alt.Y('Number of Facilities:Q', title='Number of Facilities'),\n",
    "    alt.Color('Treatment Category:N'),\n",
    ").properties(\n",
    "    title='Trends in Treatment Services Offered by Mental Health Facilities (2016-2020)',\n",
    "    width=600,\n",
    "    height=400\n",
    ")\n",
    "\n",
    "chart.show()"
   ]
  },
  {
   "cell_type": "code",
   "execution_count": 6,
   "metadata": {},
   "outputs": [],
   "source": [
    "chart.save(\"treatment_categories_2016_2020.html\")"
   ]
  }
 ],
 "metadata": {
  "kernelspec": {
   "display_name": "titanicstats",
   "language": "python",
   "name": "titanicstats"
  },
  "language_info": {
   "codemirror_mode": {
    "name": "ipython",
    "version": 3
   },
   "file_extension": ".py",
   "mimetype": "text/x-python",
   "name": "python",
   "nbconvert_exporter": "python",
   "pygments_lexer": "ipython3",
   "version": "3.12.0"
  },
  "orig_nbformat": 4
 },
 "nbformat": 4,
 "nbformat_minor": 2
}
